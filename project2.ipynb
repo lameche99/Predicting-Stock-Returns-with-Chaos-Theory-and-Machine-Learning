{
 "cells": [
  {
   "cell_type": "markdown",
   "metadata": {},
   "source": [
    "# **Predicting Stock Returns with Elliot Waves**\n",
    "\n",
    "## *Neural Network and Random Forest Classifiers*\n",
    "\n",
    "### *Michele Orlandi ISYE6767 Fall 2022*"
   ]
  },
  {
   "cell_type": "markdown",
   "metadata": {},
   "source": [
    "# 1. **Setup**"
   ]
  },
  {
   "cell_type": "markdown",
   "metadata": {},
   "source": [
    "## 1.1 **Packages and Classes**"
   ]
  },
  {
   "cell_type": "code",
   "execution_count": 1,
   "metadata": {},
   "outputs": [],
   "source": [
    "import os\n",
    "import sys\n",
    "sys.path.append(os.getcwd())\n",
    "import gc\n",
    "import warnings\n",
    "import pandas as pd\n",
    "import numpy as np\n",
    "import plotly.graph_objects as go\n",
    "from feat_eng import Engineer\n",
    "from reader import Reader\n",
    "from processor import Processor"
   ]
  },
  {
   "cell_type": "code",
   "execution_count": 2,
   "metadata": {},
   "outputs": [],
   "source": [
    "gc.enable()\n",
    "warnings.filterwarnings('ignore')"
   ]
  },
  {
   "cell_type": "markdown",
   "metadata": {},
   "source": [
    "## 1.2 **Import Stocks Data**"
   ]
  },
  {
   "cell_type": "code",
   "execution_count": 3,
   "metadata": {},
   "outputs": [],
   "source": [
    "# input parameters\n",
    "start_date = '2000-01-01'\n",
    "end_date = '2021-11-12'\n",
    "exchange = 'nasd'"
   ]
  },
  {
   "cell_type": "code",
   "execution_count": 4,
   "metadata": {},
   "outputs": [],
   "source": [
    "# read tickers from given file\n",
    "tickers = pd.read_csv('./tickers.csv')['Ticker'].to_list()\n",
    "large_universe = pd.read_csv('./tickers_{}.csv'.format(exchange))['Symbol'].to_list()"
   ]
  },
  {
   "cell_type": "code",
   "execution_count": 5,
   "metadata": {},
   "outputs": [],
   "source": [
    "# create reader object\n",
    "reader_1 = Reader(tickers=tickers, start=start_date, end=end_date)\n",
    "reader_2 = Reader(tickers=large_universe, start=start_date, end=end_date)"
   ]
  },
  {
   "cell_type": "code",
   "execution_count": 6,
   "metadata": {},
   "outputs": [],
   "source": [
    "# retrieve data frames\n",
    "dfs = reader_1.read_yahoo()"
   ]
  },
  {
   "cell_type": "code",
   "execution_count": null,
   "metadata": {},
   "outputs": [],
   "source": [
    "# retireve large universe data frames\n",
    "large_dfs = reader_2.read_yahoo()"
   ]
  },
  {
   "cell_type": "markdown",
   "metadata": {},
   "source": [
    "## 1.3 **Helper Functions**"
   ]
  },
  {
   "cell_type": "code",
   "execution_count": null,
   "metadata": {},
   "outputs": [],
   "source": [
    "def get_scatter(xval: pd.Series, yval: pd.Series, yname: str, mode: str = 'markers'):\n",
    "    fig = go.Scatter(\n",
    "        mode=mode,\n",
    "        x=xval,\n",
    "        y=yval,\n",
    "        name=yname\n",
    "    )\n",
    "    return fig"
   ]
  },
  {
   "cell_type": "code",
   "execution_count": null,
   "metadata": {},
   "outputs": [],
   "source": [
    "def plot_data(df: pd.DataFrame, title: str, acc_bench: float, prec_bench: float):\n",
    "    fig = go.Figure()\n",
    "    for col in df.columns:\n",
    "        fig.add_trace(\n",
    "            get_scatter(\n",
    "                df.index,\n",
    "                df[col],\n",
    "                col\n",
    "            )\n",
    "        )\n",
    "    \n",
    "    fig.add_hline(y=acc_bench, annotation_text='Accuracy Benchmark')\n",
    "    fig.add_hline(y=prec_bench, annotation_text='Precision Benchmark')\n",
    "\n",
    "    fig.update_layout(\n",
    "        title=title,\n",
    "        xaxis_title='Tickers',\n",
    "        yaxis_title='Value'\n",
    "    )\n",
    "    return fig"
   ]
  },
  {
   "cell_type": "markdown",
   "metadata": {},
   "source": [
    "## 1.4 **Preprocess Data**"
   ]
  },
  {
   "cell_type": "code",
   "execution_count": null,
   "metadata": {},
   "outputs": [],
   "source": [
    "# preprocess data\n",
    "processor = Processor()\n",
    "engineer = Engineer()"
   ]
  },
  {
   "cell_type": "code",
   "execution_count": null,
   "metadata": {},
   "outputs": [],
   "source": [
    "# input parameters for technical indicators\n",
    "fractal_period, holding_period = 9, 24\n",
    "fast, slow, signal = 5, 34, 5\n",
    "tide, wave, ripple = 5, 13, 34\n",
    "feats = ['macd', 'signal', 'tide', 'wave',\\\n",
    "    'ripple', 'tops', 'bottoms', 'mfi_change',\\\n",
    "        'volume_change', 'prediction']"
   ]
  },
  {
   "cell_type": "markdown",
   "metadata": {},
   "source": [
    "### 1.4.1 **Small Universe Stocks**"
   ]
  },
  {
   "cell_type": "code",
   "execution_count": null,
   "metadata": {},
   "outputs": [],
   "source": [
    "# clean data and engineer predictor variables\n",
    "# also get prediction variable and shift the values by HP -> future n_day return is positive or negative\n",
    "feature_dict = dict()\n",
    "for t in dfs.keys():\n",
    "    processor.clean_data(dfs[t])\n",
    "    new_df = engineer.engineer_features(\n",
    "        dfs[t],\n",
    "        period=fractal_period,\n",
    "        fast=fast,\n",
    "        slow=slow,\n",
    "        signal=signal,\n",
    "        tide=tide,\n",
    "        wave=wave,\n",
    "        ripple=ripple,\n",
    "        holding_period=holding_period\n",
    "    )\n",
    "    new_df['prediction'] = new_df['prediction'].shift(-holding_period)\n",
    "    new_df = new_df[np.isfinite(new_df).all(1)].copy()\n",
    "    processor.scale_data(new_df)\n",
    "    feature_dict[t] = new_df.loc[:, feats].copy()\n",
    "    gc.collect()"
   ]
  },
  {
   "cell_type": "markdown",
   "metadata": {},
   "source": [
    "### 1.4.2 **Large Universe Stocks**"
   ]
  },
  {
   "cell_type": "code",
   "execution_count": null,
   "metadata": {},
   "outputs": [],
   "source": [
    "# clean ata and engineer predictor variables\n",
    "# also get prediction variable and shift the values by HP -> future n_day return is positive or negative\n",
    "large_feature_dict = dict()\n",
    "for t in large_dfs.keys():\n",
    "    processor.clean_data(large_dfs[t])\n",
    "    new_df = engineer.engineer_features(\n",
    "        large_dfs[t],\n",
    "        period=fractal_period,\n",
    "        fast=fast,\n",
    "        slow=slow,\n",
    "        signal=signal,\n",
    "        tide=tide,\n",
    "        wave=wave,\n",
    "        ripple=ripple,\n",
    "        holding_period=holding_period\n",
    "    )\n",
    "    new_df['prediction'] = new_df['prediction'].shift(-holding_period)\n",
    "    new_df = new_df[np.isfinite(new_df).all(1)].copy()\n",
    "    processor.scale_data(new_df)\n",
    "    large_feature_dict[t] = new_df.loc[:, feats].copy()\n",
    "    gc.collect()"
   ]
  },
  {
   "cell_type": "code",
   "execution_count": null,
   "metadata": {},
   "outputs": [],
   "source": [
    "del dfs, new_df, large_dfs"
   ]
  },
  {
   "cell_type": "markdown",
   "metadata": {},
   "source": [
    "# 2. **Neural Network**"
   ]
  },
  {
   "cell_type": "markdown",
   "metadata": {},
   "source": [
    "## 2.1 **Small Universe Stocks**"
   ]
  },
  {
   "cell_type": "code",
   "execution_count": null,
   "metadata": {},
   "outputs": [],
   "source": [
    "# create a dictionary to store results\n",
    "results = {\n",
    "    'ticker': tickers,\n",
    "    'accuracy': [],\n",
    "    'precision': []\n",
    "}"
   ]
  },
  {
   "cell_type": "code",
   "execution_count": null,
   "metadata": {},
   "outputs": [],
   "source": [
    "# # apply NN to each stock and store results\n",
    "for t in feature_dict.keys():\n",
    "    x_train, x_test, y_train, y_test = processor.split_data(\n",
    "        feature_dict[t].loc[:, feature_dict[t].columns[:-1]].copy(),\n",
    "        feature_dict[t].loc[:, 'prediction'].copy()\n",
    "        )\n",
    "    accuracy, precision = processor.fit_and_score(x_train, x_test, y_train, y_test, 'mlp')\n",
    "    results['accuracy'].append(round(accuracy, 5))\n",
    "    results['precision'].append(round(precision, 5))"
   ]
  },
  {
   "cell_type": "code",
   "execution_count": null,
   "metadata": {},
   "outputs": [],
   "source": [
    "results = pd.DataFrame.from_dict(results, orient='columns').set_index('ticker')\n",
    "gc.collect()"
   ]
  },
  {
   "cell_type": "markdown",
   "metadata": {},
   "source": [
    "## 2.2 **Large Universe Stocks**"
   ]
  },
  {
   "cell_type": "code",
   "execution_count": null,
   "metadata": {},
   "outputs": [],
   "source": [
    "# create a dictionary to store results\n",
    "large_results = {\n",
    "    'ticker': large_universe,\n",
    "    'accuracy': [],\n",
    "    'precision': []\n",
    "}"
   ]
  },
  {
   "cell_type": "code",
   "execution_count": null,
   "metadata": {},
   "outputs": [],
   "source": [
    "# # apply NN to each stock and store results\n",
    "for t in large_feature_dict.keys():\n",
    "    x_train, x_test, y_train, y_test = processor.split_data(\n",
    "        large_feature_dict[t].loc[:, large_feature_dict[t].columns[:-1]].copy(),\n",
    "        large_feature_dict[t].loc[:, 'prediction'].copy()\n",
    "        )\n",
    "    accuracy, precision = processor.fit_and_score(x_train, x_test, y_train, y_test, 'mlp')\n",
    "    results['accuracy'].append(round(accuracy, 5))\n",
    "    results['precision'].append(round(precision, 5))"
   ]
  },
  {
   "cell_type": "code",
   "execution_count": null,
   "metadata": {},
   "outputs": [],
   "source": [
    "large_results = pd.DataFrame.from_dict(large_results, orient='columns').set_index('ticker')\n",
    "gc.collect()"
   ]
  },
  {
   "cell_type": "markdown",
   "metadata": {},
   "source": [
    "## 2.3 **Plot Results**"
   ]
  },
  {
   "cell_type": "code",
   "execution_count": null,
   "metadata": {},
   "outputs": [],
   "source": [
    "fig = plot_data(results, 'Small Universe Neural Network Results', acc_bench=0.5014, prec_bench=0.5141)\n",
    "fig.show(renderer='notebook')"
   ]
  },
  {
   "cell_type": "code",
   "execution_count": null,
   "metadata": {},
   "outputs": [],
   "source": [
    "large_fig = plot_data(large_results, 'Large Universe Neural Network Results', acc_bench=0.5014, prec_bench=0.5141)\n",
    "large_fig.show(renderer='notebook')"
   ]
  },
  {
   "cell_type": "code",
   "execution_count": null,
   "metadata": {},
   "outputs": [],
   "source": [
    "del x_train, x_test, y_train, y_test"
   ]
  },
  {
   "cell_type": "markdown",
   "metadata": {},
   "source": [
    "## 3. **Support Vector Machine**"
   ]
  },
  {
   "cell_type": "markdown",
   "metadata": {},
   "source": [
    "## 3.1 **Small Universe Stocks**"
   ]
  },
  {
   "cell_type": "code",
   "execution_count": null,
   "metadata": {},
   "outputs": [],
   "source": [
    "# set up dictionary to store results and paramters to be tunes\n",
    "params = {\n",
    "    'C': [0.1, 1, 10, 100, 1000], \n",
    "    'gamma': [1, 0.1, 0.01, 0.001, 0.0001],\n",
    "    'kernel': ['rbf']\n",
    "}\n",
    "svm_results = {\n",
    "    'ticker': tickers,\n",
    "    'accuracy': [],\n",
    "    'precision': []\n",
    "}"
   ]
  },
  {
   "cell_type": "code",
   "execution_count": null,
   "metadata": {},
   "outputs": [],
   "source": [
    "for t in feature_dict.keys():\n",
    "    x_train, x_test, y_train, y_test = processor.split_data(\n",
    "        feature_dict[t].loc[:, feature_dict[t].columns[:-1]].copy(),\n",
    "        feature_dict[t].loc[:, 'prediction'].copy()\n",
    "        )\n",
    "    accuracy, precision = processor.fit_and_score(x_train, x_test, y_train, y_test, 'svm', params)\n",
    "    svm_results['accuracy'].append(round(accuracy, 5))\n",
    "    svm_results['precision'].append(round(precision, 5))"
   ]
  },
  {
   "cell_type": "code",
   "execution_count": null,
   "metadata": {},
   "outputs": [],
   "source": [
    "svm_results = pd.DataFrame.from_dict(svm_results, orient='columns').set_index('ticker')\n",
    "gc.collect()"
   ]
  },
  {
   "cell_type": "markdown",
   "metadata": {},
   "source": [
    "## 3.2 **Large Universe Stocks**"
   ]
  },
  {
   "cell_type": "code",
   "execution_count": null,
   "metadata": {},
   "outputs": [],
   "source": [
    "# set up dictionary to store results\n",
    "large_svm_results = {\n",
    "    'ticker': tickers,\n",
    "    'accuracy': [],\n",
    "    'precision': []\n",
    "}"
   ]
  },
  {
   "cell_type": "code",
   "execution_count": null,
   "metadata": {},
   "outputs": [],
   "source": [
    "for t in large_feature_dict.keys():\n",
    "    x_train, x_test, y_train, y_test = processor.split_data(\n",
    "        large_feature_dict[t].loc[:, large_feature_dict[t].columns[:-1]].copy(),\n",
    "        large_feature_dict[t].loc[:, 'prediction'].copy()\n",
    "        )\n",
    "    accuracy, precision = processor.fit_and_score(x_train, x_test, y_train, y_test, 'svm', params)\n",
    "    large_svm_results['accuracy'].append(round(accuracy, 5))\n",
    "    large_svm_results['precision'].append(round(precision, 5))"
   ]
  },
  {
   "cell_type": "code",
   "execution_count": null,
   "metadata": {},
   "outputs": [],
   "source": [
    "large_svm_results = pd.DataFrame.from_dict(large_svm_results, orient='columns').set_index('ticker')\n",
    "gc.collect()"
   ]
  },
  {
   "cell_type": "markdown",
   "metadata": {},
   "source": [
    "## 3.3 **Plot Results**"
   ]
  },
  {
   "cell_type": "code",
   "execution_count": null,
   "metadata": {},
   "outputs": [],
   "source": [
    "svm_fig = plot_data(svm_results, 'Small Universe Support Vector Machine Results', acc_bench=0.5014, prec_bench=0.5141)\n",
    "svm_fig.show(renderer='notebook')"
   ]
  },
  {
   "cell_type": "code",
   "execution_count": null,
   "metadata": {},
   "outputs": [],
   "source": [
    "large_svm_fig = plot_data(large_svm_results, 'Large Universe Support Vector Machine Results', acc_bench=0.5014, prec_bench=0.5141)\n",
    "large_svm_fig.show(renderer='notebook')"
   ]
  }
 ],
 "metadata": {
  "kernelspec": {
   "display_name": "Python 3.10.8 ('project2')",
   "language": "python",
   "name": "python3"
  },
  "language_info": {
   "codemirror_mode": {
    "name": "ipython",
    "version": 3
   },
   "file_extension": ".py",
   "mimetype": "text/x-python",
   "name": "python",
   "nbconvert_exporter": "python",
   "pygments_lexer": "ipython3",
   "version": "3.10.8"
  },
  "orig_nbformat": 4,
  "vscode": {
   "interpreter": {
    "hash": "dd0099d5757f07b7f7442b3540cad2e3df035e1809d6ddd77000948c2040ed79"
   }
  }
 },
 "nbformat": 4,
 "nbformat_minor": 2
}
